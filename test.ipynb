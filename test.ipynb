{
 "cells": [
  {
   "cell_type": "code",
   "execution_count": 19,
   "metadata": {
    "collapsed": true,
    "ExecuteTime": {
     "end_time": "2023-08-11T14:19:54.467509Z",
     "start_time": "2023-08-11T14:19:54.462522700Z"
    }
   },
   "outputs": [],
   "source": [
    "from bisect import bisect_left\n",
    "from copy import deepcopy\n",
    "from random import random\n",
    "\n",
    "def build_markov_sequence(a, b, p, t):\n",
    "    \"\"\"隐马尔可夫模型观测序列的生成\"\"\"\n",
    "\n",
    "    # 计算前缀和\n",
    "    a = deepcopy(a)\n",
    "    for i in range(len(a)):\n",
    "        for j in range(1, len(a[0])):\n",
    "            a[i][j] += a[i][j - 1]\n",
    "    b = deepcopy(b)\n",
    "    for i in range(len(b)):\n",
    "        for j in range(1, len(b[0])):\n",
    "            b[i][j] += b[i][j - 1]\n",
    "    p = deepcopy(p)\n",
    "    for j in range(1, len(p)):\n",
    "        p[j] += p[j - 1]\n",
    "\n",
    "    # 按照初始状态分布p产生状态i\n",
    "    stat = [bisect_left(p, random())]\n",
    "\n",
    "    # 按照状态的观测概率分布生成观测o\n",
    "    res = [bisect_left(b[stat[-1]], random())]\n",
    "\n",
    "    for _ in range(1, t):\n",
    "        # 按照状态的状态转移概率分布产生下一个状态\n",
    "        stat.append(bisect_left(a[stat[-1]], random()))\n",
    "\n",
    "        # 按照状态的观测概率分布生成观测o\n",
    "        res.append(bisect_left(b[stat[-1]], random()))\n",
    "\n",
    "    return stat, res"
   ]
  },
  {
   "cell_type": "code",
   "execution_count": 20,
   "outputs": [
    {
     "name": "stdout",
     "output_type": "stream",
     "text": [
      "[2, 3, 2, 1, 2, 3, 2, 1, 0, 1, 2, 1, 0, 1, 2, 1, 2, 3, 2, 3]\n",
      "[1, 0, 1, 0, 0, 0, 0, 1, 0, 1, 0, 1, 1, 1, 0, 1, 0, 0, 0, 0]\n"
     ]
    }
   ],
   "source": [
    "A = [[0.0, 1.0, 0.0, 0.0],\n",
    "     [0.4, 0.0, 0.6, 0.0],\n",
    "     [0.0, 0.4, 0.0, 0.6],\n",
    "     [0.0, 0.0, 0.5, 0.5]]\n",
    "B = [[0.5, 0.5],\n",
    "     [0.3, 0.7],\n",
    "     [0.6, 0.4],\n",
    "     [0.8, 0.2]]\n",
    "p = [0.25, 0.25, 0.25, 0.25]\n",
    "\n",
    "ans = build_markov_sequence(A, B, p, 20)\n",
    "print(ans[0])\n",
    "print(ans[1])\n"
   ],
   "metadata": {
    "collapsed": false,
    "ExecuteTime": {
     "end_time": "2023-08-11T14:19:56.283656Z",
     "start_time": "2023-08-11T14:19:56.271688200Z"
    }
   }
  },
  {
   "cell_type": "code",
   "execution_count": null,
   "outputs": [],
   "source": [],
   "metadata": {
    "collapsed": false
   }
  }
 ],
 "metadata": {
  "kernelspec": {
   "display_name": "Python 3",
   "language": "python",
   "name": "python3"
  },
  "language_info": {
   "codemirror_mode": {
    "name": "ipython",
    "version": 2
   },
   "file_extension": ".py",
   "mimetype": "text/x-python",
   "name": "python",
   "nbconvert_exporter": "python",
   "pygments_lexer": "ipython2",
   "version": "2.7.6"
  }
 },
 "nbformat": 4,
 "nbformat_minor": 0
}
